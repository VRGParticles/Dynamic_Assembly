{
 "cells": [
  {
   "cell_type": "code",
   "execution_count": 2,
   "id": "f9c6b201",
   "metadata": {},
   "outputs": [],
   "source": [
    "import numpy as np\n",
    "import pandas as pd\n",
    "from pandas import DataFrame, Series  # for convenience\n",
    "\n",
    "import pims\n",
    "import trackpy as tp"
   ]
  },
  {
   "cell_type": "code",
   "execution_count": 3,
   "id": "ef52104d",
   "metadata": {},
   "outputs": [],
   "source": [
    "#read in the csv from MATLAB\n",
    "f = pd.read_csv(\"Tracker_Input.csv\")"
   ]
  },
  {
   "cell_type": "code",
   "execution_count": 4,
   "id": "8c6ea1b9",
   "metadata": {},
   "outputs": [
    {
     "data": {
      "text/html": [
       "<div>\n",
       "<style scoped>\n",
       "    .dataframe tbody tr th:only-of-type {\n",
       "        vertical-align: middle;\n",
       "    }\n",
       "\n",
       "    .dataframe tbody tr th {\n",
       "        vertical-align: top;\n",
       "    }\n",
       "\n",
       "    .dataframe thead th {\n",
       "        text-align: right;\n",
       "    }\n",
       "</style>\n",
       "<table border=\"1\" class=\"dataframe\">\n",
       "  <thead>\n",
       "    <tr style=\"text-align: right;\">\n",
       "      <th></th>\n",
       "      <th>x</th>\n",
       "      <th>y</th>\n",
       "      <th>frame</th>\n",
       "    </tr>\n",
       "  </thead>\n",
       "  <tbody>\n",
       "    <tr>\n",
       "      <th>0</th>\n",
       "      <td>7.345679</td>\n",
       "      <td>23.259259</td>\n",
       "      <td>1</td>\n",
       "    </tr>\n",
       "    <tr>\n",
       "      <th>1</th>\n",
       "      <td>5.778947</td>\n",
       "      <td>440.557895</td>\n",
       "      <td>1</td>\n",
       "    </tr>\n",
       "    <tr>\n",
       "      <th>2</th>\n",
       "      <td>7.607477</td>\n",
       "      <td>656.401869</td>\n",
       "      <td>1</td>\n",
       "    </tr>\n",
       "    <tr>\n",
       "      <th>3</th>\n",
       "      <td>6.767442</td>\n",
       "      <td>888.569767</td>\n",
       "      <td>1</td>\n",
       "    </tr>\n",
       "    <tr>\n",
       "      <th>4</th>\n",
       "      <td>10.157480</td>\n",
       "      <td>189.220472</td>\n",
       "      <td>1</td>\n",
       "    </tr>\n",
       "  </tbody>\n",
       "</table>\n",
       "</div>"
      ],
      "text/plain": [
       "           x           y  frame\n",
       "0   7.345679   23.259259      1\n",
       "1   5.778947  440.557895      1\n",
       "2   7.607477  656.401869      1\n",
       "3   6.767442  888.569767      1\n",
       "4  10.157480  189.220472      1"
      ]
     },
     "execution_count": 4,
     "metadata": {},
     "output_type": "execute_result"
    }
   ],
   "source": [
    "f.head()  # shows the first few rows of data from MATLAB"
   ]
  },
  {
   "cell_type": "code",
   "execution_count": 6,
   "id": "79ad2127",
   "metadata": {},
   "outputs": [
    {
     "name": "stdout",
     "output_type": "stream",
     "text": [
      "Frame 450: 985 trajectories present.\n"
     ]
    }
   ],
   "source": [
    "#Track particles and write to csv for input MATLAB\n",
    "# tp.quiet()  # Turn off progress reports for best performance\n",
    "t = tp.link(f, memory=10, search_range = 30.0, adaptive_stop = 10.0, adaptive_step=  0.95)\n",
    "t['particle'].max()\n",
    "t.to_csv('Tracked_Particles_Input.csv', header=False, index=False)"
   ]
  },
  {
   "cell_type": "code",
   "execution_count": 8,
   "id": "8d2ab669",
   "metadata": {},
   "outputs": [
    {
     "data": {
      "text/html": [
       "<div>\n",
       "<style scoped>\n",
       "    .dataframe tbody tr th:only-of-type {\n",
       "        vertical-align: middle;\n",
       "    }\n",
       "\n",
       "    .dataframe tbody tr th {\n",
       "        vertical-align: top;\n",
       "    }\n",
       "\n",
       "    .dataframe thead th {\n",
       "        text-align: right;\n",
       "    }\n",
       "</style>\n",
       "<table border=\"1\" class=\"dataframe\">\n",
       "  <thead>\n",
       "    <tr style=\"text-align: right;\">\n",
       "      <th></th>\n",
       "      <th>x</th>\n",
       "      <th>y</th>\n",
       "      <th>frame</th>\n",
       "      <th>particle</th>\n",
       "    </tr>\n",
       "  </thead>\n",
       "  <tbody>\n",
       "    <tr>\n",
       "      <th>0</th>\n",
       "      <td>7.345679</td>\n",
       "      <td>23.259259</td>\n",
       "      <td>1</td>\n",
       "      <td>0</td>\n",
       "    </tr>\n",
       "    <tr>\n",
       "      <th>605</th>\n",
       "      <td>666.900000</td>\n",
       "      <td>17.790909</td>\n",
       "      <td>1</td>\n",
       "      <td>1</td>\n",
       "    </tr>\n",
       "    <tr>\n",
       "      <th>606</th>\n",
       "      <td>671.394958</td>\n",
       "      <td>290.966387</td>\n",
       "      <td>1</td>\n",
       "      <td>2</td>\n",
       "    </tr>\n",
       "    <tr>\n",
       "      <th>607</th>\n",
       "      <td>671.770642</td>\n",
       "      <td>598.844037</td>\n",
       "      <td>1</td>\n",
       "      <td>3</td>\n",
       "    </tr>\n",
       "    <tr>\n",
       "      <th>608</th>\n",
       "      <td>671.487179</td>\n",
       "      <td>627.555556</td>\n",
       "      <td>1</td>\n",
       "      <td>4</td>\n",
       "    </tr>\n",
       "    <tr>\n",
       "      <th>...</th>\n",
       "      <td>...</td>\n",
       "      <td>...</td>\n",
       "      <td>...</td>\n",
       "      <td>...</td>\n",
       "    </tr>\n",
       "    <tr>\n",
       "      <th>428340</th>\n",
       "      <td>331.299065</td>\n",
       "      <td>561.738318</td>\n",
       "      <td>450</td>\n",
       "      <td>2085</td>\n",
       "    </tr>\n",
       "    <tr>\n",
       "      <th>428341</th>\n",
       "      <td>329.321839</td>\n",
       "      <td>994.206897</td>\n",
       "      <td>450</td>\n",
       "      <td>4224</td>\n",
       "    </tr>\n",
       "    <tr>\n",
       "      <th>428342</th>\n",
       "      <td>331.794118</td>\n",
       "      <td>85.509804</td>\n",
       "      <td>450</td>\n",
       "      <td>1934</td>\n",
       "    </tr>\n",
       "    <tr>\n",
       "      <th>428344</th>\n",
       "      <td>336.423077</td>\n",
       "      <td>975.375000</td>\n",
       "      <td>450</td>\n",
       "      <td>5321</td>\n",
       "    </tr>\n",
       "    <tr>\n",
       "      <th>428991</th>\n",
       "      <td>996.112150</td>\n",
       "      <td>523.785047</td>\n",
       "      <td>450</td>\n",
       "      <td>5408</td>\n",
       "    </tr>\n",
       "  </tbody>\n",
       "</table>\n",
       "<p>428992 rows × 4 columns</p>\n",
       "</div>"
      ],
      "text/plain": [
       "                 x           y  frame  particle\n",
       "0         7.345679   23.259259      1         0\n",
       "605     666.900000   17.790909      1         1\n",
       "606     671.394958  290.966387      1         2\n",
       "607     671.770642  598.844037      1         3\n",
       "608     671.487179  627.555556      1         4\n",
       "...            ...         ...    ...       ...\n",
       "428340  331.299065  561.738318    450      2085\n",
       "428341  329.321839  994.206897    450      4224\n",
       "428342  331.794118   85.509804    450      1934\n",
       "428344  336.423077  975.375000    450      5321\n",
       "428991  996.112150  523.785047    450      5408\n",
       "\n",
       "[428992 rows x 4 columns]"
      ]
     },
     "execution_count": 8,
     "metadata": {},
     "output_type": "execute_result"
    }
   ],
   "source": [
    "#If you want to visualize the table:\n",
    "t"
   ]
  },
  {
   "cell_type": "code",
   "execution_count": null,
   "id": "46aacabb",
   "metadata": {},
   "outputs": [],
   "source": []
  }
 ],
 "metadata": {
  "kernelspec": {
   "display_name": "Python 3",
   "language": "python",
   "name": "python3"
  },
  "language_info": {
   "codemirror_mode": {
    "name": "ipython",
    "version": 3
   },
   "file_extension": ".py",
   "mimetype": "text/x-python",
   "name": "python",
   "nbconvert_exporter": "python",
   "pygments_lexer": "ipython3",
   "version": "3.8.8"
  }
 },
 "nbformat": 4,
 "nbformat_minor": 5
}
